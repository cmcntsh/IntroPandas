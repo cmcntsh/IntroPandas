{
 "cells": [
  {
   "cell_type": "code",
   "execution_count": null,
   "metadata": {},
   "outputs": [],
   "source": [
    "import pandas as pd\n",
    "import numpy as np"
   ]
  },
  {
   "cell_type": "markdown",
   "metadata": {},
   "source": [
    "# Creating dataframes\n",
    "\n",
    "* From dictionary: https://www.geeksforgeeks.org/how-to-create-dataframe-from-dictionary-in-python-pandas/\n",
    "* From list: https://www.geeksforgeeks.org/create-a-pandas-dataframe-from-lists/"
   ]
  },
  {
   "cell_type": "code",
   "execution_count": null,
   "metadata": {},
   "outputs": [],
   "source": [
    "# from a dictionary\n",
    "\n",
    "d = {'col1': [1, 2], 'col2': [3, 4]}\n",
    "df = pd.DataFrame(data=d)\n",
    "df"
   ]
  },
  {
   "cell_type": "code",
   "execution_count": null,
   "metadata": {},
   "outputs": [],
   "source": [
    "# from numpy array\n",
    "\n",
    "df = pd.DataFrame(np.array([[1, 2, 3], [4, 5, 6], [7, 8, 9]]),\n",
    "                   columns=['a', 'b', 'c'])\n",
    "df"
   ]
  },
  {
   "cell_type": "code",
   "execution_count": null,
   "metadata": {},
   "outputs": [],
   "source": [
    "# from list\n",
    "\n",
    "lst = ['Geeks', 'For', 'Geeks', 'is', \n",
    "            'portal', 'for', 'Geeks']\n",
    "  \n",
    "# Calling DataFrame constructor on list\n",
    "df = pd.DataFrame(lst)\n",
    "df"
   ]
  },
  {
   "cell_type": "markdown",
   "metadata": {},
   "source": [
    "# Opening files\n",
    "\n",
    "* CSV: https://pythonbasics.org/read-csv-with-pandas/\n",
    "* Excel https://pandas.pydata.org/pandas-docs/stable/reference/api/pandas.read_excel.html\n",
    "* JSON https://pandas.pydata.org/pandas-docs/stable/reference/api/pandas.read_json.html"
   ]
  },
  {
   "cell_type": "code",
   "execution_count": null,
   "metadata": {},
   "outputs": [],
   "source": [
    "# Selecting files\n",
    "\n",
    "import tkinter as tk\n",
    "from tkinter import filedialog\n",
    "\n",
    "root = tk.Tk()\n",
    "root.lift()\n",
    "root.withdraw()\n",
    "\n",
    "print('Opening dialogue box for file selection. Please choose a file.')\n",
    "\n",
    "file_path = filedialog.askopenfilename()\n",
    "\n",
    "print('File selected:', file_path)"
   ]
  },
  {
   "cell_type": "code",
   "execution_count": null,
   "metadata": {},
   "outputs": [],
   "source": [
    "# create a dataframe from a csv file\n",
    "\n",
    "# Load pandas\n",
    "import pandas as pd\n",
    "\n",
    "# Read CSV file into DataFrame df\n",
    "# Try this with the index_col removed also\n",
    "csvdf = pd.read_csv(file_path, index_col=0)\n",
    "\n",
    "# Show dataframe\n",
    "print(csvdf)"
   ]
  },
  {
   "cell_type": "code",
   "execution_count": null,
   "metadata": {},
   "outputs": [],
   "source": [
    "# Selecting files\n",
    "\n",
    "import tkinter as tk\n",
    "from tkinter import filedialog\n",
    "\n",
    "root = tk.Tk()\n",
    "root.lift()\n",
    "root.withdraw()\n",
    "\n",
    "print('Opening dialogue box for file selection. Please choose a file.')\n",
    "\n",
    "file_path = filedialog.askopenfilename()\n",
    "\n",
    "print('File selected:', file_path)"
   ]
  },
  {
   "cell_type": "code",
   "execution_count": null,
   "metadata": {},
   "outputs": [],
   "source": [
    "# create a dataframe from an Excel file\n",
    "\n",
    "# Load pandas\n",
    "import pandas as pd\n",
    "\n",
    "# Read CSV file into DataFrame df\n",
    "# Try this with the index_col removed also\n",
    "exceldf = pd.read_excel(file_path, index_col=0)\n",
    "\n",
    "# Show dataframe\n",
    "print(exceldf)"
   ]
  },
  {
   "cell_type": "code",
   "execution_count": null,
   "metadata": {},
   "outputs": [],
   "source": [
    "# create json file from the dataframe\n",
    "\n",
    "import os\n",
    "  \n",
    "# this will return a tuple of root and extension\n",
    "split_tup = os.path.splitext(file_path)\n",
    "print(split_tup)\n",
    "\n",
    "df.to_json(str(split_tup[0]) + '.json', orient='index')\n",
    "\n",
    "print('Done.')"
   ]
  },
  {
   "cell_type": "code",
   "execution_count": null,
   "metadata": {},
   "outputs": [],
   "source": [
    "# Selecting files\n",
    "\n",
    "import tkinter as tk\n",
    "from tkinter import filedialog\n",
    "\n",
    "root = tk.Tk()\n",
    "root.lift()\n",
    "root.withdraw()\n",
    "\n",
    "print('Opening dialogue box for file selection. Please choose a file.')\n",
    "\n",
    "file_path = filedialog.askopenfilename()\n",
    "\n",
    "print('File selected:', file_path)"
   ]
  },
  {
   "cell_type": "code",
   "execution_count": null,
   "metadata": {},
   "outputs": [],
   "source": [
    "# create a dataframe from a json file\n",
    "\n",
    "# Load pandas\n",
    "import pandas as pd\n",
    "\n",
    "# Read CSV file into DataFrame df\n",
    "# Try this with the orient = removed also\n",
    "jsondf = pd.read_json(file_path, orient = 'index')\n",
    "\n",
    "# Show dataframe\n",
    "print(jsondf)"
   ]
  },
  {
   "cell_type": "markdown",
   "metadata": {},
   "source": [
    "# Introduction to Pandas\n",
    "https://www.tutorialspoint.com/python_pandas/index.htm\n",
    "\n",
    "## Data Structures\n",
    "\n",
    "* series\n",
    "* dataframes\n",
    "* panels (I've never used panels)"
   ]
  },
  {
   "cell_type": "code",
   "execution_count": null,
   "metadata": {},
   "outputs": [],
   "source": [
    "# Data structures\n",
    "print(type(csvdf['name']))\n",
    "print(type(csvdf))"
   ]
  },
  {
   "cell_type": "markdown",
   "metadata": {},
   "source": [
    "## Sorting"
   ]
  },
  {
   "cell_type": "code",
   "execution_count": null,
   "metadata": {},
   "outputs": [],
   "source": [
    "# by column values\n",
    "print(csvdf.sort_values(by='name'))\n",
    "print(csvdf.sort_values(by='hex'))"
   ]
  },
  {
   "cell_type": "code",
   "execution_count": null,
   "metadata": {},
   "outputs": [],
   "source": [
    "# sort by index\n",
    "csvdf.sort_index(ascending=False)"
   ]
  },
  {
   "cell_type": "code",
   "execution_count": null,
   "metadata": {},
   "outputs": [],
   "source": [
    "# sort columns\n",
    "csvdf.sort_index(axis=1)"
   ]
  },
  {
   "cell_type": "markdown",
   "metadata": {},
   "source": [
    "## Data Manipulation"
   ]
  },
  {
   "cell_type": "code",
   "execution_count": null,
   "metadata": {},
   "outputs": [],
   "source": [
    "# Add column to dataframe\n",
    "\n",
    "csvdf['length'] = csvdf['name'].str.len()\n",
    "csvdf"
   ]
  },
  {
   "cell_type": "code",
   "execution_count": null,
   "metadata": {},
   "outputs": [],
   "source": [
    "# select rows by condition\n",
    "\n",
    "print(csvdf['length'] > 4)\n",
    "result_df = csvdf[csvdf['length'] > 4]\n",
    "result_df"
   ]
  },
  {
   "cell_type": "code",
   "execution_count": null,
   "metadata": {},
   "outputs": [],
   "source": [
    "# join dataframes\n",
    "\n",
    "import numpy as np\n",
    "import pandas as pd\n",
    "\n",
    "# create a new dataframe with random numbers\n",
    "\n",
    "data = np.random.randint(5,30,size=16)\n",
    "df2 = pd.DataFrame(data, columns=['random_numbers'])\n",
    "\n",
    "print(df2)\n",
    "\n",
    "# performs an outer join (uses the index as the key)\n",
    "\n",
    "csvdf = csvdf.join(df2)\n",
    "csvdf"
   ]
  },
  {
   "cell_type": "markdown",
   "metadata": {},
   "source": [
    "## Saving files"
   ]
  },
  {
   "cell_type": "code",
   "execution_count": null,
   "metadata": {},
   "outputs": [],
   "source": [
    "# Save dataframes on different sheets in same Excel file\n",
    "\n",
    "import pandas as pd\n",
    "import openpyxl\n",
    "import xlsxwriter\n",
    "import os\n",
    "from datetime import datetime\n",
    "\n",
    "dflist= [csvdf,exceldf,jsondf,result_df]\n",
    "dfnames = [\"csv\",\"excel\", \"json\", \"result\"]\n",
    "\n",
    "# get the current time to name file\n",
    "now = datetime.now()\n",
    "\n",
    "# YYYY-mm-dd-H-M-S\n",
    "dt_string = now.strftime(\"%Y-%m-%d-%H-%M-%S\")\n",
    "\n",
    "# path for final report. We'll define an Excel writer object and the target file\n",
    "Excelwriter = pd.ExcelWriter(os.path.dirname(file_path) + \"/output_\" + dt_string + \".xlsx\",engine=\"xlsxwriter\")\n",
    "\n",
    "#We now loop process the list of dataframes\n",
    "for i, df in enumerate (dflist):\n",
    "    df.to_excel(Excelwriter, sheet_name=dfnames[i],index=False)\n",
    "\n",
    "#And finally save the file\n",
    "Excelwriter.save()\n",
    "\n",
    "print(\"Done.\")"
   ]
  }
 ],
 "metadata": {
  "kernelspec": {
   "display_name": "Python 3",
   "language": "python",
   "name": "python3"
  },
  "language_info": {
   "codemirror_mode": {
    "name": "ipython",
    "version": 3
   },
   "file_extension": ".py",
   "mimetype": "text/x-python",
   "name": "python",
   "nbconvert_exporter": "python",
   "pygments_lexer": "ipython3",
   "version": "3.8.5"
  }
 },
 "nbformat": 4,
 "nbformat_minor": 4
}
